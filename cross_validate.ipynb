{
 "cells": [
  {
   "cell_type": "code",
   "execution_count": 4,
   "metadata": {},
   "outputs": [
    {
     "name": "stdout",
     "output_type": "stream",
     "text": [
      "{'stepwise_feature_selection_5': 3} 1.2088874635213522\n",
      "3\n",
      "\n",
      "2\n",
      "\n",
      "{'stepwise_feature_selection_5': 3} 1.2088874635213522\n",
      "3\n",
      "\n",
      "{'lasso_5': 0.12} 1.1968544828111392\n",
      "0.12\n",
      "\n",
      "{'marginal_screening_5': 5} 1.1535464494537575\n",
      "5\n",
      "\n",
      "start -> stepwise_feature_selection_5\n",
      "stepwise_feature_selection_5 -> end\n",
      "\n",
      "start -> lasso_5\n",
      "lasso_5 -> end\n",
      "\n",
      "start -> marginal_screening_5\n",
      "marginal_screening_5 -> end\n"
     ]
    }
   ],
   "source": [
    "from source.feature_selection import stepwise_feature_selection, lasso, marginal_screening\n",
    "from source.pipeline import make_dataset, make_pipeline, make_pipelines\n",
    "import numpy as np\n",
    "\n",
    "rng = np.random.default_rng(10)\n",
    "\n",
    "X, y = make_dataset()\n",
    "pl1 = make_pipeline(stepwise_feature_selection(X, y, 3, [1, 3, 5]))\n",
    "\n",
    "X, y = make_dataset()\n",
    "pl2 = make_pipeline(lasso(X, y, 0.08, [0.04, 0.08, 0.12]))\n",
    "\n",
    "X, y = make_dataset()\n",
    "pl3 = make_pipeline(marginal_screening(X, y, 3, [1, 3, 5]))\n",
    "\n",
    "n, p = 200, 10\n",
    "beta = np.zeros(p)\n",
    "beta[:3] = 0.3\n",
    "X = rng.normal(size=(n, p))\n",
    "y = X @ beta + rng.normal(size=n)\n",
    "\n",
    "pl1.tune(X, y, n_iter=3, random_state=0)\n",
    "print(pl1.best_candidate, pl1.best_mse)\n",
    "print(pl1.components[pl1.static_order[1]].parameters)\n",
    "print()\n",
    "\n",
    "multi_pls = make_pipelines(pl1, pl2, pl3)\n",
    "multi_pls.tune(X, y, n_iters=3, random_state=0)\n",
    "print(multi_pls.best_index)\n",
    "print()\n",
    "\n",
    "for pl in multi_pls.pipelines:\n",
    "    print(pl.best_candidate, pl.best_mse)\n",
    "    print(pl.components[pl.static_order[1]].parameters)\n",
    "    print()\n",
    "\n",
    "print(multi_pls)\n"
   ]
  },
  {
   "cell_type": "code",
   "execution_count": 5,
   "metadata": {},
   "outputs": [
    {
     "name": "stdout",
     "output_type": "stream",
     "text": [
      "[([0, 1, 2], [14, 21, 24, 34, 45, 53, 76, 96, 115, 127, 128, 140, 160, 161, 182, 188, 199]), ([0, 1, 2], [14, 24, 34, 45, 53, 96, 110, 114, 115, 160, 182, 188])]\n",
      "1\n",
      "{} 1.1656999450093672\n",
      "{} 1.16329872230803\n",
      "([0, 1, 2], [14, 24, 34, 45, 53, 96, 110, 114, 115, 160, 182, 188])\n"
     ]
    }
   ],
   "source": [
    "from source.feature_selection import stepwise_feature_selection, lasso, marginal_screening\n",
    "from source.pipeline import make_dataset, make_pipeline, make_pipelines\n",
    "from source.model import option1, option2\n",
    "import numpy as np\n",
    "\n",
    "rng = np.random.default_rng()\n",
    "\n",
    "n, p = 200, 10\n",
    "beta = np.zeros(p)\n",
    "beta[:3] = 0.3\n",
    "X = rng.normal(size=(n, p))\n",
    "y = X @ beta + rng.normal(size=n)\n",
    "\n",
    "mpls = make_pipelines(option1(), option2())\n",
    "print(mpls(X, y))\n",
    "\n",
    "mpls.tune(X, y, n_iters=1, random_state=0)\n",
    "print(mpls.best_index)\n",
    "for pipeline in mpls.pipelines:\n",
    "    print(pipeline.best_candidate, pipeline.best_mse)\n",
    "\n",
    "print(mpls(X, y))"
   ]
  }
 ],
 "metadata": {
  "kernelspec": {
   "display_name": "Python 3",
   "language": "python",
   "name": "python3"
  },
  "language_info": {
   "codemirror_mode": {
    "name": "ipython",
    "version": 3
   },
   "file_extension": ".py",
   "mimetype": "text/x-python",
   "name": "python",
   "nbconvert_exporter": "python",
   "pygments_lexer": "ipython3",
   "version": "3.10.11"
  }
 },
 "nbformat": 4,
 "nbformat_minor": 2
}

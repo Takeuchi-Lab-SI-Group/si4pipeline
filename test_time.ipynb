{
 "cells": [
  {
   "cell_type": "code",
   "execution_count": 1,
   "metadata": {},
   "outputs": [],
   "source": [
    "import os\n",
    "os.environ[\"OMP_NUM_THREADS\"] = \"1\"\n",
    "os.environ[\"OPENBLAS_NUM_THREADS\"] = \"1\"\n",
    "os.environ[\"MKL_NUM_THREADS\"] = \"1\"\n",
    "os.environ[\"VECLIB_NUM_THREADS\"] = \"1\"\n",
    "os.environ[\"NUMEXPR_NUM_THREADS\"] = \"1\"\n",
    "\n",
    "from tqdm import tqdm\n",
    "\n",
    "import numpy as np\n",
    "from scipy.stats import norm\n",
    "\n",
    "import numpy as np\n",
    "import source.pipelineprocesser as plp\n",
    "\n",
    "import matplotlib.pyplot as plt"
   ]
  },
  {
   "cell_type": "code",
   "execution_count": 30,
   "metadata": {},
   "outputs": [
    {
     "name": "stderr",
     "output_type": "stream",
     "text": [
      "100%|██████████| 1/1 [00:01<00:00,  1.14s/it]"
     ]
    },
    {
     "name": "stdout",
     "output_type": "stream",
     "text": [
      "55 0.8219224083679386\n"
     ]
    },
    {
     "name": "stderr",
     "output_type": "stream",
     "text": [
      "\n"
     ]
    }
   ],
   "source": [
    "# definition of pipeline option1\n",
    "def option1():\n",
    "    X, y = plp.make_dataset()\n",
    "    y = plp.mean_value_imputation(X, y)\n",
    "\n",
    "    O = plp.soft_ipod(X, y, 0.02)\n",
    "    X, y = plp.remove_outliers(X, y, O)\n",
    "\n",
    "    M = plp.marginal_screening(X, y, 5)\n",
    "    X = plp.extract_features(X, M)\n",
    "\n",
    "    M1 = plp.stepwise_feature_selection(X, y, 3)\n",
    "    M2 = plp.lasso(X, y, 0.08)\n",
    "    M = plp.union(M1, M2)\n",
    "    # X = plp.extract_features(X, M)\n",
    "\n",
    "    # M = plp.stepwise_feature_selection(X, y, 5)\n",
    "\n",
    "    return plp.make_pipeline(output=M)\n",
    "\n",
    "def option_parallel():\n",
    "    X, y = plp.make_dataset()\n",
    "    y = plp.mean_value_imputation(X, y)\n",
    "\n",
    "    O = plp.soft_ipod(X, y, 0.02)\n",
    "    X, y = plp.remove_outliers(X, y, O)\n",
    "\n",
    "    M = plp.marginal_screening(X, y, 15)\n",
    "    X = plp.extract_features(X, M)\n",
    "\n",
    "    M1 = plp.stepwise_feature_selection(X, y, 10)\n",
    "    M2 = plp.lasso(X, y, 0.04)\n",
    "    M = plp.intersection(M1, M2)\n",
    "\n",
    "    X = plp.extract_features(X, M)\n",
    "\n",
    "    M1 = plp.stepwise_feature_selection(X, y, 3)\n",
    "    M2 = plp.lasso(X, y, 0.08)\n",
    "    M = plp.union(M1, M2)\n",
    "    return plp.make_pipeline(output=M)\n",
    "\n",
    "def option_serial():\n",
    "    X, y = plp.make_dataset()\n",
    "    y = plp.mean_value_imputation(X, y)\n",
    "\n",
    "    O = plp.soft_ipod(X, y, 0.02)\n",
    "    X, y = plp.remove_outliers(X, y, O)\n",
    "\n",
    "    M = plp.marginal_screening(X, y, 15)\n",
    "    X = plp.extract_features(X, M)\n",
    "\n",
    "    M = plp.lasso(X, y, 0.04)\n",
    "    X = plp.extract_features(X, M)\n",
    "\n",
    "    M = plp.stepwise_feature_selection(X, y, 6)\n",
    "    X = plp.extract_features(X, M)\n",
    "\n",
    "    M1 = plp.stepwise_feature_selection(X, y, 3)\n",
    "    M2 = plp.lasso(X, y, 0.08)\n",
    "    M = plp.union(M1, M2)\n",
    "    return plp.make_pipeline(output=M)\n",
    "\n",
    "def option1_cv():\n",
    "    X, y = plp.make_dataset()\n",
    "    y = plp.mean_value_imputation(X, y)\n",
    "\n",
    "    O = plp.soft_ipod(X, y, 0.02, {0.02, 0.018})\n",
    "    X, y = plp.remove_outliers(X, y, O)\n",
    "\n",
    "    M = plp.marginal_screening(X, y, 5, {3, 5})\n",
    "    X = plp.extract_features(X, M)\n",
    "\n",
    "    M1 = plp.stepwise_feature_selection(X, y, 3, {2, 3})\n",
    "    M2 = plp.lasso(X, y, 0.08, {0.08, 0.12})\n",
    "    M = plp.union(M1, M2)\n",
    "    return plp.make_pipeline(output=M)\n",
    "\n",
    "\n",
    "\n",
    "def option2_cv():\n",
    "    X, y = plp.make_dataset()\n",
    "    y = plp.definite_regression_imputation(X, y)\n",
    "\n",
    "    M = plp.marginal_screening(X, y, 5, {3, 5})\n",
    "    X = plp.extract_features(X, M)\n",
    "\n",
    "    O = plp.cook_distance(X, y, 3.0, {2.0, 3.0})\n",
    "    X, y = plp.remove_outliers(X, y, O)\n",
    "\n",
    "    M1 = plp.stepwise_feature_selection(X, y, 3, {2, 3})\n",
    "    M2 = plp.lasso(X, y, 0.08, {0.08, 0.12})\n",
    "    M = plp.intersection(M1, M2)\n",
    "    return plp.make_pipeline(output=M)\n",
    "\n",
    "n, p = 800, 320\n",
    "pl = option1()\n",
    "# pl = plp.make_pipeline(output=plp.lasso(*plp.make_dataset(), 0.04))\n",
    "\n",
    "rng = np.random.default_rng(0)\n",
    "\n",
    "for _ in tqdm(range(1)):\n",
    "    X, y = rng.normal(size=(n, p)), rng.normal(size=n)\n",
    "    # pl = plp.make_pipelines(option1_cv(), option2_cv())\n",
    "    # pl.tune(X, y, n_iters=[16, 16], cv=5, random_state=0)  # not n_iter but n_iters for MultiPipeline, fix seed\n",
    "    M, _ = pl(X, y)\n",
    "    if len(M) == 0:\n",
    "        print(\"hoge\")\n",
    "        continue\n",
    "    index = rng.choice(len(M))\n",
    "    hoge1, hoge2 = pl.inference(X, y, 1.0, index)\n",
    "    print(hoge1, hoge2)\n"
   ]
  },
  {
   "cell_type": "code",
   "execution_count": 11,
   "metadata": {},
   "outputs": [
    {
     "name": "stdout",
     "output_type": "stream",
     "text": [
      "0.11389502573013306 1000\n"
     ]
    }
   ],
   "source": [
    "import pickle\n",
    "import numpy as np\n",
    "\n",
    "\n",
    "with open(\"time/results_default/200_20_0.0_0.pkl\", \"rb\") as f:\n",
    "    data = pickle.load(f)\n",
    "\n",
    "results, times = zip(*data)\n",
    "print(np.mean(times), len(times))\n"
   ]
  }
 ],
 "metadata": {
  "kernelspec": {
   "display_name": "Python 3",
   "language": "python",
   "name": "python3"
  },
  "language_info": {
   "codemirror_mode": {
    "name": "ipython",
    "version": 3
   },
   "file_extension": ".py",
   "mimetype": "text/x-python",
   "name": "python",
   "nbconvert_exporter": "python",
   "pygments_lexer": "ipython3",
   "version": "3.10.11"
  }
 },
 "nbformat": 4,
 "nbformat_minor": 2
}

{
 "cells": [
  {
   "cell_type": "code",
   "execution_count": 1,
   "metadata": {},
   "outputs": [],
   "source": [
    "import numpy as np\n",
    "from source.pipeline import (\n",
    "    stepwise_feature_selection,\n",
    "    make_dataset, make_pipeline,\n",
    "    marginal_screening, union, extract_features, lasso,\n",
    "    intersection, mean_value_imputation, cook_distance, remove_outliers,\n",
    "    definite_regression_imputation, dffits\n",
    "    )"
   ]
  },
  {
   "cell_type": "code",
   "execution_count": 2,
   "metadata": {},
   "outputs": [
    {
     "name": "stdout",
     "output_type": "stream",
     "text": [
      "start -> definite_regression_imputation_0\n",
      "definite_regression_imputation_0 -> marginal_screening_0\n",
      "marginal_screening_0 -> extract_0\n",
      "extract_0 -> dffits_0\n",
      "dffits_0 -> remove_0\n",
      "remove_0 -> lasso_0\n",
      "remove_0 -> stepwise_feature_selection_0\n",
      "lasso_0 -> intersection_0\n",
      "stepwise_feature_selection_0 -> intersection_0\n",
      "intersection_0 -> end\n",
      "\n",
      "selected features: [0, 1, 2, 4, 9]\n",
      "detected outliers: [19, 25, 48, 51, 59, 64, 74, 77, 90, 94, 95]\n"
     ]
    }
   ],
   "source": [
    "# definition of pipeline option1\n",
    "def option1():\n",
    "    X, y = make_dataset()\n",
    "    y = mean_value_imputation(X, y)\n",
    "\n",
    "    O = cook_distance(X, y, 3.0)\n",
    "    X, y = remove_outliers(X, y, O)\n",
    "\n",
    "    M = marginal_screening(X, y, 5)\n",
    "    X = extract_features(X, M)\n",
    "\n",
    "    M1 = stepwise_feature_selection(X, y, 3)\n",
    "    M2 = lasso(X, y, 0.08)\n",
    "    M = union(M1, M2)\n",
    "    return make_pipeline(output=M)\n",
    "\n",
    "def option2():\n",
    "    X, y = make_dataset()\n",
    "    y = definite_regression_imputation(X, y)\n",
    "\n",
    "    M = marginal_screening(X, y, 7)\n",
    "    X = extract_features(X, M)\n",
    "\n",
    "    O = dffits(X, y, 2.0)\n",
    "    X, y = remove_outliers(X, y, O)\n",
    "\n",
    "    M1 = stepwise_feature_selection(X, y, 5)\n",
    "    M2 = lasso(X, y, 0.05)\n",
    "    M = intersection(M1, M2)\n",
    "    return make_pipeline(output=M)\n",
    "\n",
    "\n",
    "pipeline = option2()\n",
    "print(pipeline) # print the pipeline structure\n",
    "print()\n",
    "\n",
    "# apply the defined pipeline to a actual dataset\n",
    "n, p = 100, 10\n",
    "rng = np.random.default_rng(0)\n",
    "\n",
    "X = rng.normal(size=(n, p))\n",
    "y = rng.normal(size=n)\n",
    "\n",
    "M, O = pipeline(X, y) # pipeline can be used as a function\n",
    "print('selected features:', M)\n",
    "print('detected outliers:', O)\n"
   ]
  },
  {
   "cell_type": "code",
   "execution_count": 3,
   "metadata": {},
   "outputs": [
    {
     "name": "stderr",
     "output_type": "stream",
     "text": [
      "  0%|          | 0/2000 [00:00<?, ?it/s]"
     ]
    },
    {
     "name": "stderr",
     "output_type": "stream",
     "text": [
      "100%|██████████| 2000/2000 [10:54<00:00,  3.06it/s]\n"
     ]
    },
    {
     "name": "stdout",
     "output_type": "stream",
     "text": [
      "parametric: 0.056\n",
      "naive: 0.210\n"
     ]
    },
    {
     "data": {
      "image/png": "[encoded data removed]",
      "text/plain": [
       "<Figure size 400x400 with 1 Axes>"
      ]
     },
     "metadata": {},
     "output_type": "display_data"
    },
    {
     "name": "stdout",
     "output_type": "stream",
     "text": [
      "KS: 0.000\n",
      "search count: 19.82\n"
     ]
    }
   ],
   "source": [
    "import numpy as np\n",
    "from scipy.stats import norm\n",
    "from tqdm import tqdm\n",
    "from sicore import pvalues_qqplot\n",
    "from scipy.stats import kstest\n",
    "\n",
    "\n",
    "n, p = 100, 10\n",
    "rng = np.random.default_rng(1728534388464)\n",
    "results  = []\n",
    "for _ in tqdm(range(2000)):\n",
    "    X = rng.normal(size=(n, p))\n",
    "    y = rng.normal(size=(n,))\n",
    "    y[[1, 2, 3, 4, 5]] += 4\n",
    "    missing = rng.choice(list(range(n)), size=n // 10, replace=False)\n",
    "    y[missing] = np.nan\n",
    "    M, O = pipeline(X, y)\n",
    "\n",
    "    try:\n",
    "        index = rng.integers(0, len(M))\n",
    "        _, result = pipeline.inference(X, y, 1.0, index, step=1e-6)\n",
    "        results.append(result)\n",
    "    except Exception as e:\n",
    "        print(e)\n",
    "        continue\n",
    "\n",
    "p_list = np.array([result.p_value for result in results])\n",
    "naive_p_list = np.array([2 * norm.cdf(-np.abs(result.stat)) for result in results])\n",
    "\n",
    "print(f'parametric: {np.mean(p_list < 0.05):.3f}')\n",
    "print(f'naive: {np.mean(naive_p_list < 0.05):.3f}')\n",
    "\n",
    "pvalues_qqplot(p_list)\n",
    "print(f'KS: {kstest(p_list, \"uniform\")[1]:.3f}')\n",
    "\n",
    "print(f'search count: {np.mean([result.search_count for result in results]):.2f}')"
   ]
  }
 ],
 "metadata": {
  "kernelspec": {
   "display_name": "Python 3",
   "language": "python",
   "name": "python3"
  },
  "language_info": {
   "codemirror_mode": {
    "name": "ipython",
    "version": 3
   },
   "file_extension": ".py",
   "mimetype": "text/x-python",
   "name": "python",
   "nbconvert_exporter": "python",
   "pygments_lexer": "ipython3",
   "version": "3.10.11"
  }
 },
 "nbformat": 4,
 "nbformat_minor": 2
}

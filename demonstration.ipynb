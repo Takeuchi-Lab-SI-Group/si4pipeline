{
 "cells": [
  {
   "cell_type": "code",
   "execution_count": 1,
   "metadata": {},
   "outputs": [],
   "source": [
    "# import\n",
    "import numpy as np\n",
    "import source.pipelineprocesser as plp"
   ]
  },
  {
   "cell_type": "code",
   "execution_count": 2,
   "metadata": {},
   "outputs": [],
   "source": [
    "# definition of pipeline option1\n",
    "def option1():\n",
    "    X, y = plp.make_dataset()\n",
    "    y = plp.mean_value_imputation(X, y)\n",
    "\n",
    "    O = plp.cook_distance(X, y, 3.0)\n",
    "    X, y = plp.remove_outliers(X, y, O)\n",
    "\n",
    "    M = plp.marginal_screening(X, y, 5)\n",
    "    X = plp.extract_features(X, M)\n",
    "\n",
    "    M1 = plp.stepwise_feature_selection(X, y, 3)\n",
    "    M2 = plp.lasso(X, y, 0.08)\n",
    "    M = plp.union(M1, M2)\n",
    "    return plp.make_pipeline(output=M)\n",
    "\n",
    "# definition of pipeline option2\n",
    "def option2():\n",
    "    X, y = plp.make_dataset()\n",
    "    y = plp.definite_regression_imputation(X, y)\n",
    "\n",
    "    M = plp.marginal_screening(X, y, 7)\n",
    "    X = plp.extract_features(X, M)\n",
    "\n",
    "    O = plp.dffits(X, y, 2.0)\n",
    "    X, y = plp.remove_outliers(X, y, O)\n",
    "\n",
    "    M1 = plp.stepwise_feature_selection(X, y, 5)\n",
    "    M2 = plp.lasso(X, y, 0.05)\n",
    "    M = plp.intersection(M1, M2)\n",
    "    return plp.make_pipeline(output=M)\n"
   ]
  },
  {
   "cell_type": "code",
   "execution_count": 3,
   "metadata": {},
   "outputs": [
    {
     "name": "stdout",
     "output_type": "stream",
     "text": [
      "Option1:\n",
      "start -> mean_value_imputation_0\n",
      "mean_value_imputation_0 -> cook_distance_0\n",
      "cook_distance_0 -> remove_0\n",
      "remove_0 -> marginal_screening_0\n",
      "marginal_screening_0 -> extract_0\n",
      "extract_0 -> stepwise_feature_selection_0\n",
      "extract_0 -> lasso_0\n",
      "stepwise_feature_selection_0 -> union_0\n",
      "lasso_0 -> union_0\n",
      "union_0 -> end\n",
      "\n",
      "Option2:\n",
      "start -> definite_regression_imputation_0\n",
      "definite_regression_imputation_0 -> marginal_screening_1\n",
      "marginal_screening_1 -> extract_1\n",
      "extract_1 -> dffits_0\n",
      "dffits_0 -> remove_1\n",
      "remove_1 -> lasso_1\n",
      "remove_1 -> stepwise_feature_selection_1\n",
      "lasso_1 -> intersection_0\n",
      "stepwise_feature_selection_1 -> intersection_0\n",
      "intersection_0 -> end\n"
     ]
    }
   ],
   "source": [
    "op1 = option1()\n",
    "# print the pipeline structure\n",
    "print('Option1:')\n",
    "print(op1)\n",
    "print()\n",
    "\n",
    "op2 = option2()\n",
    "# print the pipeline structure\n",
    "print('Option2:')\n",
    "print(op2)\n"
   ]
  },
  {
   "cell_type": "code",
   "execution_count": 4,
   "metadata": {},
   "outputs": [
    {
     "name": "stdout",
     "output_type": "stream",
     "text": [
      "selected features: [0, 2, 3, 6, 9]\n",
      "detected outliers: [19, 48, 51, 59, 64, 74, 77, 94]\n",
      "\n",
      "feature:0 p-value:0.243\n",
      "feature:2 p-value:0.133\n",
      "feature:3 p-value:0.805\n",
      "feature:6 p-value:0.928\n",
      "feature:9 p-value:0.692\n"
     ]
    }
   ],
   "source": [
    "# apply the defined pipeline (option1) to a actual dataset\n",
    "n, p = 100, 10\n",
    "\n",
    "rng = np.random.default_rng(0)\n",
    "X = rng.normal(size=(n, p))\n",
    "y = rng.normal(size=n)\n",
    "sigma = 1.0\n",
    "\n",
    "M, O = op1(X, y) # pipeline can be used as a function\n",
    "print('selected features:', M)\n",
    "print('detected outliers:', O)\n",
    "print()\n",
    "\n",
    "# inference for each selected features\n",
    "M, p_list = op1.inference(X, y, sigma)\n",
    "for each_feature, p_value in zip(M, p_list):\n",
    "    print(f'feature:{each_feature} p-value:{p_value:.3f}')\n"
   ]
  },
  {
   "cell_type": "code",
   "execution_count": 19,
   "metadata": {},
   "outputs": [
    {
     "name": "stdout",
     "output_type": "stream",
     "text": [
      "start -> marginal_screening_16\n",
      "marginal_screening_16 -> extract_16\n",
      "extract_16 -> lasso_16\n",
      "lasso_16 -> end\n",
      "\n",
      "tuned parameters: {'marginal_screening_16': 3, 'lasso_16': 0.05}\n",
      "\n",
      "selected features: [0, 2, 1]\n"
     ]
    }
   ],
   "source": [
    "def option3():\n",
    "    X, y = plp.make_dataset()\n",
    "\n",
    "    M = plp.marginal_screening(X, y, 5, [3, 5, 7])\n",
    "    X = plp.extract_features(X, M)\n",
    "\n",
    "    M = plp.lasso(X, y, 0.08, [0.05, 0.08, 0.1])\n",
    "    return plp.make_pipeline(output=M)\n",
    "\n",
    "op3 = option3()\n",
    "print(op3)\n",
    "print()\n",
    "\n",
    "op3.tune(X, y, n_iter=9, cv=5)\n",
    "print(\"tuned parameters:\", op3.best_candidate)\n",
    "print()\n",
    "\n",
    "print(\"selected features:\", op3(X, y)[0])"
   ]
  }
 ],
 "metadata": {
  "kernelspec": {
   "display_name": "Python 3",
   "language": "python",
   "name": "python3"
  },
  "language_info": {
   "codemirror_mode": {
    "name": "ipython",
    "version": 3
   },
   "file_extension": ".py",
   "mimetype": "text/x-python",
   "name": "python",
   "nbconvert_exporter": "python",
   "pygments_lexer": "ipython3",
   "version": "3.10.11"
  }
 },
 "nbformat": 4,
 "nbformat_minor": 2
}

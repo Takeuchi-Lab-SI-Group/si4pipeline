{
 "cells": [
  {
   "cell_type": "code",
   "execution_count": 1,
   "metadata": {
    "metadata": {}
   },
   "outputs": [],
   "source": [
    "# import\n",
    "import numpy as np\n",
    "import source.pipelineprocesser as plp"
   ]
  },
  {
   "cell_type": "code",
   "execution_count": 2,
   "metadata": {
    "metadata": {}
   },
   "outputs": [],
   "source": [
    "# definition of pipeline option1\n",
    "def option1():\n",
    "    X, y = plp.make_dataset()\n",
    "    y = plp.mean_value_imputation(X, y)\n",
    "\n",
    "    O = plp.cook_distance(X, y, 3.0)\n",
    "    X, y = plp.remove_outliers(X, y, O)\n",
    "\n",
    "    M = plp.marginal_screening(X, y, 5)\n",
    "    X = plp.extract_features(X, M)\n",
    "\n",
    "    M1 = plp.stepwise_feature_selection(X, y, 3)\n",
    "    M2 = plp.lasso(X, y, 0.08)\n",
    "    M = plp.union(M1, M2)\n",
    "    return plp.make_pipeline(output=M)\n",
    "\n",
    "# definition of pipeline option2\n",
    "def option2():\n",
    "    X, y = plp.make_dataset()\n",
    "    y = plp.definite_regression_imputation(X, y)\n",
    "\n",
    "    M = plp.marginal_screening(X, y, 7)\n",
    "    X = plp.extract_features(X, M)\n",
    "\n",
    "    O = plp.dffits(X, y, 2.0)\n",
    "    X, y = plp.remove_outliers(X, y, O)\n",
    "\n",
    "    M1 = plp.stepwise_feature_selection(X, y, 5)\n",
    "    M2 = plp.lasso(X, y, 0.05)\n",
    "    M = plp.intersection(M1, M2)\n",
    "    return plp.make_pipeline(output=M)\n"
   ]
  },
  {
   "cell_type": "code",
   "execution_count": 3,
   "metadata": {
    "metadata": {}
   },
   "outputs": [
    {
     "name": "stdout",
     "output_type": "stream",
     "text": [
      "Option1:\n",
      "start -> mean_value_imputation_0\n",
      "mean_value_imputation_0 -> cook_distance_0\n",
      "cook_distance_0 -> remove_0\n",
      "remove_0 -> marginal_screening_0\n",
      "marginal_screening_0 -> extract_0\n",
      "extract_0 -> lasso_0\n",
      "extract_0 -> stepwise_feature_selection_0\n",
      "lasso_0 -> union_0\n",
      "stepwise_feature_selection_0 -> union_0\n",
      "union_0 -> end\n",
      "\n",
      "Option2:\n",
      "start -> definite_regression_imputation_0\n",
      "definite_regression_imputation_0 -> marginal_screening_1\n",
      "marginal_screening_1 -> extract_1\n",
      "extract_1 -> dffits_0\n",
      "dffits_0 -> remove_1\n",
      "remove_1 -> lasso_1\n",
      "remove_1 -> stepwise_feature_selection_1\n",
      "lasso_1 -> intersection_0\n",
      "stepwise_feature_selection_1 -> intersection_0\n",
      "intersection_0 -> end\n"
     ]
    }
   ],
   "source": [
    "# define the pipeline instance (option1)\n",
    "op1 = option1()\n",
    "# print the pipeline structure\n",
    "print('Option1:')\n",
    "print(op1)\n",
    "print()\n",
    "\n",
    "# define the pipeline instance (option2)\n",
    "op2 = option2()\n",
    "# print the pipeline structure\n",
    "print('Option2:')\n",
    "print(op2)\n"
   ]
  },
  {
   "cell_type": "code",
   "execution_count": 4,
   "metadata": {
    "metadata": {}
   },
   "outputs": [
    {
     "name": "stdout",
     "output_type": "stream",
     "text": [
      "selected features: [0, 2, 3, 6, 9]\n",
      "detected outliers: [19, 48, 51, 59, 64, 74, 77, 94]\n",
      "\n",
      "feature:0 p-value:0.514\n",
      "feature:2 p-value:0.132\n",
      "feature:3 p-value:0.610\n",
      "feature:6 p-value:0.821\n",
      "feature:9 p-value:0.489\n"
     ]
    }
   ],
   "source": [
    "# apply the defined pipeline (option1) to a actual dataset\n",
    "n, p = 100, 10\n",
    "\n",
    "rng = np.random.default_rng(0)\n",
    "X = rng.normal(size=(n, p))\n",
    "y = rng.normal(size=n)\n",
    "num_missing = rng.binomial(n, 0.03)\n",
    "mask = rng.choice(n, num_missing, replace=False)\n",
    "y[mask] = np.nan\n",
    "sigma = 1.0\n",
    "\n",
    "M, O = op1(X, y) # pipeline can be used as a function\n",
    "print('selected features:', M)\n",
    "print('detected outliers:', O)\n",
    "print()\n",
    "\n",
    "# inference for each selected features\n",
    "M, p_list = op1.inference(X, y, sigma)\n",
    "for each_feature, p_value in zip(M, p_list):\n",
    "    print(f'feature:{each_feature} p-value:{p_value:.3f}')\n"
   ]
  },
  {
   "cell_type": "code",
   "execution_count": 7,
   "metadata": {
    "metadata": {}
   },
   "outputs": [
    {
     "name": "stdout",
     "output_type": "stream",
     "text": [
      "tuned parameters (op1): {'cook_distance_3': 3.0, 'marginal_screening_6': 3}\n",
      "tuned parameters (op2): {'stepwise_feature_selection_7': 2, 'lasso_7': 0.08}\n",
      "\n",
      "selected features: [0, 2]\n",
      "detected outliers: [19, 25, 48, 59, 64, 74, 77, 90, 94, 95]\n",
      "\n",
      "feature:0 p-value:0.191\n",
      "feature:1 p-value:0.930\n",
      "feature:2 p-value:0.128\n",
      "feature:3 p-value:0.725\n",
      "feature:9 p-value:0.905\n"
     ]
    }
   ],
   "source": [
    "# definition of pipeline option1 for cross-validation\n",
    "def option1_cv():\n",
    "    X, y = plp.make_dataset()\n",
    "    y = plp.mean_value_imputation(X, y)\n",
    "\n",
    "    O = plp.cook_distance(X, y, 3.0, {2.0, 3.0}) # candidates\n",
    "    X, y = plp.remove_outliers(X, y, O)\n",
    "\n",
    "    M = plp.marginal_screening(X, y, 5, {3, 5}) # candidates\n",
    "    X = plp.extract_features(X, M)\n",
    "\n",
    "    M1 = plp.stepwise_feature_selection(X, y, 3)\n",
    "    M2 = plp.lasso(X, y, 0.08)\n",
    "    M = plp.union(M1, M2)\n",
    "    return plp.make_pipeline(output=M)\n",
    "\n",
    "# definition of pipeline option2 for cross-validation\n",
    "def option2_cv():\n",
    "    X, y = plp.make_dataset()\n",
    "    y = plp.definite_regression_imputation(X, y)\n",
    "\n",
    "    M = plp.marginal_screening(X, y, 5)\n",
    "    X = plp.extract_features(X, M)\n",
    "\n",
    "    O = plp.dffits(X, y, 3.0)\n",
    "    X, y = plp.remove_outliers(X, y, O)\n",
    "\n",
    "    M1 = plp.stepwise_feature_selection(X, y, 3, {2, 3}) # candidates\n",
    "    M2 = plp.lasso(X, y, 0.08, {0.08, 0.12}) # candidates\n",
    "    M = plp.intersection(M1, M2)\n",
    "    return plp.make_pipeline(output=M)\n",
    "\n",
    "\n",
    "# define the pipeline instance\n",
    "op1cv = option1_cv()\n",
    "op2cv = option2_cv()\n",
    "\n",
    "# cross-validation\n",
    "op1cv.tune(X, y, n_iter=4, cv=5, random_state=0)\n",
    "op2cv.tune(X, y, n_iter=4, cv=5, random_state=0)\n",
    "\n",
    "# print the tuned parameters\n",
    "print(\"tuned parameters (op1):\", op1cv.best_candidate)\n",
    "print(\"tuned parameters (op2):\", op2cv.best_candidate)\n",
    "print()\n",
    "\n",
    "M, O = op2cv(X, y) # pipeline can be used as a function\n",
    "print('selected features:', M)\n",
    "print('detected outliers:', O)\n",
    "print()\n",
    "\n",
    "# inference for each selected features\n",
    "M, p_list = op2.inference(X, y, sigma)\n",
    "for each_feature, p_value in zip(M, p_list):\n",
    "    print(f'feature:{each_feature} p-value:{p_value:.3f}')"
   ]
  },
  {
   "cell_type": "code",
   "execution_count": 10,
   "metadata": {
    "metadata": {}
   },
   "outputs": [
    {
     "name": "stdout",
     "output_type": "stream",
     "text": [
      "best pipeline: 0\n",
      "best parameters: {'cook_distance_3': 3.0, 'marginal_screening_6': 3}\n",
      "\n",
      "selected features: [0, 2, 9]\n",
      "detected outliers: [19, 48, 51, 59, 64, 74, 77, 94]\n",
      "\n",
      "feature:0 p-value:0.372\n",
      "feature:2 p-value:0.685\n",
      "feature:9 p-value:0.956\n"
     ]
    }
   ],
   "source": [
    "# multiple pipelines\n",
    "mpls = plp.make_pipelines(op1cv, op2cv)\n",
    "\n",
    "# cross-validation for multiple pipelines\n",
    "mpls.tune(X, y, n_iters=4, cv=5, random_state=0)\n",
    "\n",
    "# print the index of the best pipeline and the best parameters\n",
    "print(\"best pipeline:\", i := mpls.best_index)\n",
    "print(\"best parameters:\", mpls.pipelines[i].best_candidate)\n",
    "print()\n",
    "\n",
    "M, O = mpls(X, y) # pipeline can be used as a function\n",
    "print('selected features:', M)\n",
    "print('detected outliers:', O)\n",
    "print()\n",
    "\n",
    "# inference for each selected features\n",
    "M, p_list = mpls.inference(X, y, sigma)\n",
    "for each_feature, p_value in zip(M, p_list):\n",
    "    print(f'feature:{each_feature} p-value:{p_value:.3f}')\n"
   ]
  }
 ],
 "metadata": {
  "kernelspec": {
   "display_name": "Python 3",
   "language": "python",
   "name": "python3"
  },
  "language_info": {
   "codemirror_mode": {
    "name": "ipython",
    "version": 3
   },
   "file_extension": ".py",
   "mimetype": "text/x-python",
   "name": "python",
   "nbconvert_exporter": "python",
   "pygments_lexer": "ipython3",
   "version": "3.10.13"
  }
 },
 "nbformat": 4,
 "nbformat_minor": 2
}

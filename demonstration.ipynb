{
 "cells": [
  {
   "cell_type": "code",
   "execution_count": 2,
   "metadata": {},
   "outputs": [],
   "source": [
    "# import\n",
    "import numpy as np\n",
    "import source.pipelineprocesser as plp"
   ]
  },
  {
   "cell_type": "code",
   "execution_count": 5,
   "metadata": {},
   "outputs": [
    {
     "name": "stdout",
     "output_type": "stream",
     "text": [
      "Option1:\n",
      "start -> mean_value_imputation_2\n",
      "mean_value_imputation_2 -> cook_distance_2\n",
      "cook_distance_2 -> remove_4\n",
      "remove_4 -> marginal_screening_4\n",
      "marginal_screening_4 -> extract_4\n",
      "extract_4 -> lasso_4\n",
      "extract_4 -> stepwise_feature_selection_4\n",
      "lasso_4 -> union_2\n",
      "stepwise_feature_selection_4 -> union_2\n",
      "union_2 -> end\n",
      "\n",
      "Option2:\n",
      "start -> definite_regression_imputation_2\n",
      "definite_regression_imputation_2 -> marginal_screening_5\n",
      "marginal_screening_5 -> extract_5\n",
      "extract_5 -> dffits_2\n",
      "dffits_2 -> remove_5\n",
      "remove_5 -> lasso_5\n",
      "remove_5 -> stepwise_feature_selection_5\n",
      "lasso_5 -> intersection_2\n",
      "stepwise_feature_selection_5 -> intersection_2\n",
      "intersection_2 -> end\n"
     ]
    }
   ],
   "source": [
    "# definition of pipeline option1\n",
    "def option1():\n",
    "    X, y = plp.make_dataset()\n",
    "    y = plp.mean_value_imputation(X, y)\n",
    "\n",
    "    O = plp.cook_distance(X, y, 3.0)\n",
    "    X, y = plp.remove_outliers(X, y, O)\n",
    "\n",
    "    M = plp.marginal_screening(X, y, 5)\n",
    "    X = plp.extract_features(X, M)\n",
    "\n",
    "    M1 = plp.stepwise_feature_selection(X, y, 3)\n",
    "    M2 = plp.lasso(X, y, 0.08)\n",
    "    M = plp.union(M1, M2)\n",
    "    return plp.make_pipeline(output=M)\n",
    "\n",
    "# definition of pipeline option2\n",
    "def option2():\n",
    "    X, y = plp.make_dataset()\n",
    "    y = plp.definite_regression_imputation(X, y)\n",
    "\n",
    "    M = plp.marginal_screening(X, y, 7)\n",
    "    X = plp.extract_features(X, M)\n",
    "\n",
    "    O = plp.dffits(X, y, 2.0)\n",
    "    X, y = plp.remove_outliers(X, y, O)\n",
    "\n",
    "    M1 = plp.stepwise_feature_selection(X, y, 5)\n",
    "    M2 = plp.lasso(X, y, 0.05)\n",
    "    M = plp.intersection(M1, M2)\n",
    "    return plp.make_pipeline(output=M)\n",
    "\n",
    "\n",
    "op1 = option1()\n",
    "# print the pipeline structure\n",
    "print('Option1:')\n",
    "print(op1)\n",
    "print()\n",
    "\n",
    "op2 = option2()\n",
    "# print the pipeline structure\n",
    "print('Option2:')\n",
    "print(op2)\n"
   ]
  },
  {
   "cell_type": "code",
   "execution_count": 11,
   "metadata": {},
   "outputs": [
    {
     "name": "stdout",
     "output_type": "stream",
     "text": [
      "selected features: [0, 2, 3, 6, 9]\n",
      "detected outliers: [19, 48, 51, 59, 64, 74, 77, 94]\n",
      "\n",
      "feature:0 p-value:0.243\n",
      "feature:2 p-value:0.133\n",
      "feature:3 p-value:0.805\n",
      "feature:6 p-value:0.928\n",
      "feature:9 p-value:0.692\n"
     ]
    }
   ],
   "source": [
    "# apply the defined pipeline (option1) to a actual dataset\n",
    "n, p = 100, 10\n",
    "\n",
    "rng = np.random.default_rng(0)\n",
    "X = rng.normal(size=(n, p))\n",
    "y = rng.normal(size=n)\n",
    "sigma = 1.0\n",
    "\n",
    "M, O = op1(X, y) # pipeline can be used as a function\n",
    "print('selected features:', M)\n",
    "print('detected outliers:', O)\n",
    "print()\n",
    "\n",
    "# inference for each selected features\n",
    "M, p_list = op1.inference(X, y, sigma)\n",
    "for each_feature, p_value in zip(M, p_list):\n",
    "    print(f'feature:{each_feature} p-value:{p_value:.3f}')\n"
   ]
  }
 ],
 "metadata": {
  "kernelspec": {
   "display_name": "Python 3",
   "language": "python",
   "name": "python3"
  },
  "language_info": {
   "codemirror_mode": {
    "name": "ipython",
    "version": 3
   },
   "file_extension": ".py",
   "mimetype": "text/x-python",
   "name": "python",
   "nbconvert_exporter": "python",
   "pygments_lexer": "ipython3",
   "version": "3.10.11"
  }
 },
 "nbformat": 4,
 "nbformat_minor": 2
}

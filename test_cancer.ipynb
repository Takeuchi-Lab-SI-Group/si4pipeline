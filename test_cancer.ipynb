{
 "cells": [
  {
   "cell_type": "code",
   "execution_count": 52,
   "metadata": {},
   "outputs": [
    {
     "name": "stdout",
     "output_type": "stream",
     "text": [
      "(97, 11)\n",
      "Index(['lcavol', 'lweight', 'age', 'lbph', 'svi', 'lcp', 'gleason', 'pgg45'], dtype='object')\n",
      "(97,) (97, 8)\n",
      "(97, 8)\n",
      "[0, 1, 4, 7] [38]\n",
      "Index(['lcavol', 'lweight', 'svi', 'pgg45'], dtype='object')\n",
      "\n",
      "[3.62989673874381e-08, 0.01847881174944166, 0.06980997352081553, 0.7369299275116836]\n",
      "[0.000150491577944889, 0.20100807283242816, 0.05814979771097262, 0.7304913247221283]\n",
      "[2.213581031408327e-11, 5.268747028860387e-05, 0.0013070871456503843, 0.38976707111507636]\n"
     ]
    }
   ],
   "source": [
    "import pandas as pd\n",
    "import numpy as np\n",
    "from scipy.stats import norm\n",
    "import source.pipelineprocesser as plp\n",
    "\n",
    "df = pd.read_csv(\"cancer.tsv\", sep=\"\\t\")\n",
    "print(df.shape)\n",
    "y = df[\"lpsa\"]\n",
    "X = df.drop([\"lpsa\", \"Unnamed: 0\", \"train\"], axis=1)\n",
    "print(hoge := X.columns)\n",
    "X = X.values\n",
    "\n",
    "print(y.shape, X.shape)\n",
    "X = (X - np.mean(X, axis=0)) / np.std(X, axis=0)\n",
    "print(X.shape)\n",
    "\n",
    "y = (y - np.mean(y)) / np.std(y)\n",
    "\n",
    "\n",
    "def option():\n",
    "    X, y = plp.make_dataset()\n",
    "    y = plp.mean_value_imputation(X, y)\n",
    "\n",
    "    O = plp.soft_ipod(X, y, 0.015)\n",
    "    X, y = plp.remove_outliers(X, y, O)\n",
    "\n",
    "    M = plp.marginal_screening(X, y, 5)\n",
    "    X = plp.extract_features(X, M)\n",
    "\n",
    "    M1 = plp.stepwise_feature_selection(X, y, 3)\n",
    "    M2 = plp.lasso(X, y, 0.08)\n",
    "    M = plp.union(M1, M2)\n",
    "    return plp.make_pipeline(output=M)\n",
    "\n",
    "pl = option()\n",
    "M, O = pl(X, y)\n",
    "print(M, O)\n",
    "print(hoge[M])\n",
    "print()\n",
    "\n",
    "M, results = pl.inference(X, y, is_result=True, precision=1e-5)\n",
    "\n",
    "print([r.p_value for r in results])\n",
    "print(pl.inference(X, y, over_conditioning=True)[1])\n",
    "print([2 * norm.cdf(-np.abs(r.stat)) for r in results])\n"
   ]
  }
 ],
 "metadata": {
  "kernelspec": {
   "display_name": "Python 3",
   "language": "python",
   "name": "python3"
  },
  "language_info": {
   "codemirror_mode": {
    "name": "ipython",
    "version": 3
   },
   "file_extension": ".py",
   "mimetype": "text/x-python",
   "name": "python",
   "nbconvert_exporter": "python",
   "pygments_lexer": "ipython3",
   "version": "3.10.13"
  }
 },
 "nbformat": 4,
 "nbformat_minor": 2
}

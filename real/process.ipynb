{
 "cells": [
  {
   "cell_type": "code",
   "execution_count": 9,
   "metadata": {
    "metadata": {}
   },
   "outputs": [],
   "source": [
    "import numpy as np\n",
    "import pandas as pd\n",
    "import pickle\n",
    "\n",
    "\n",
    "def preprocess(mode, dir_name=\"dataset/\", tau=0.3):\n",
    "    if mode == \"heating_load\":\n",
    "        data = pd.read_excel(f\"{dir_name}ENB2012_data.xlsx\")\n",
    "        X = data.values[:, :8]\n",
    "        y = data.values[:, 8]\n",
    "    elif mode == \"cooling_load\":\n",
    "        data = pd.read_excel(f\"{dir_name}ENB2012_data.xlsx\")\n",
    "        X = data.values[:, :8]\n",
    "        y = data.values[:, 9]\n",
    "    elif mode == \"gas_turbine\":\n",
    "        data = pd.read_csv(f\"{dir_name}gt_2015.csv\")\n",
    "        X = data.drop(columns=[\"TEY\"]).values\n",
    "        y = data[\"TEY\"].values\n",
    "    elif mode == \"red_wine\":\n",
    "        data = pd.read_csv(f\"{dir_name}winequality-red.csv\", delimiter=\";\")\n",
    "        X = data.values[:, :-1]\n",
    "        y = data.values[:, -1]\n",
    "    elif mode == \"white_wine\":\n",
    "        data = pd.read_csv(f\"{dir_name}winequality-white.csv\", delimiter=\";\")\n",
    "        X = data.values[:, :-1]\n",
    "        y = data.values[:, -1]\n",
    "    elif mode == \"abalone\":\n",
    "        data = pd.read_csv(f\"{dir_name}abalone.csv\", header=None)\n",
    "        X = data.drop(columns=0).values[:, :-1]\n",
    "        y = data.values[:, -1]\n",
    "    elif mode == \"concrete\":\n",
    "        data = pd.read_excel(f\"{dir_name}Concrete_Data.xls\")\n",
    "        X = data.values[:, :-1]\n",
    "        y = data.values[:, -1]\n",
    "    elif mode == \"housing\":\n",
    "        data = pd.read_excel(f\"{dir_name}Real estate valuation data set.xlsx\")\n",
    "        X = data.values[:, :-1]\n",
    "        y = data.values[:, -1]\n",
    "\n",
    "    X = (X - np.mean(X, axis=0)) / np.std(X, axis=0)\n",
    "    rng = np.random.default_rng(0)\n",
    "    for j in range(X.shape[1]):\n",
    "        if len(set(X[:, j])) < tau * len(X[:, j]):\n",
    "            X[:, j] += rng.normal(0, 0.1, X.shape[0])\n",
    "    y = np.array(y, dtype=float)\n",
    "    residuals = y - X @ np.linalg.inv(X.T @ X) @ X.T @ y\n",
    "    # print(np.std(y), np.std(residuals, ddof=X.shape[1]))\n",
    "    y = (y - np.mean(y)) / np.std(residuals, ddof=X.shape[1])\n",
    "    return X, y\n",
    "\n",
    "dataset = {}\n",
    "keys = [\"heating_load\", \"cooling_load\", \"gas_turbine\", \"red_wine\", \"white_wine\", \"abalone\", \"concrete\", \"housing\"]\n",
    "for key in keys:\n",
    "    dataset[key] = preprocess(key)\n",
    "with open(\"table_dataset.pkl\", \"wb\") as f:\n",
    "    pickle.dump(dataset, f)\n"
   ]
  }
 ],
 "metadata": {
  "kernelspec": {
   "display_name": "Python 3",
   "language": "python",
   "name": "python3"
  },
  "language_info": {
   "codemirror_mode": {
    "name": "ipython",
    "version": 3
   },
   "file_extension": ".py",
   "mimetype": "text/x-python",
   "name": "python",
   "nbconvert_exporter": "python",
   "pygments_lexer": "ipython3",
   "version": "3.10.13"
  }
 },
 "nbformat": 4,
 "nbformat_minor": 2
}

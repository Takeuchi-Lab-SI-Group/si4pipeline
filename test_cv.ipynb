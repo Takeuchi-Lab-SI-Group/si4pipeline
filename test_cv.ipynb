{
 "cells": [
  {
   "cell_type": "code",
   "execution_count": 1,
   "metadata": {},
   "outputs": [
    {
     "name": "stdout",
     "output_type": "stream",
     "text": [
      "{'stepwise_feature_selection_0': 3} 1.2088874635213522\n",
      "3\n",
      "\n",
      "2\n",
      "\n",
      "{'stepwise_feature_selection_0': 3} 1.2088874635213522\n",
      "3\n",
      "\n",
      "{'lasso_0': 0.12} 1.1968544828111392\n",
      "0.12\n",
      "\n",
      "{'marginal_screening_0': 5} 1.1535464494537575\n",
      "5\n",
      "\n",
      "start -> stepwise_feature_selection_0\n",
      "stepwise_feature_selection_0 -> end\n",
      "\n",
      "start -> lasso_0\n",
      "lasso_0 -> end\n",
      "\n",
      "start -> marginal_screening_0\n",
      "marginal_screening_0 -> end\n"
     ]
    }
   ],
   "source": [
    "from source.feature_selection import stepwise_feature_selection, lasso, marginal_screening\n",
    "from source.pipeline import make_dataset, make_pipeline, make_pipelines\n",
    "import numpy as np\n",
    "\n",
    "rng = np.random.default_rng(10)\n",
    "\n",
    "X, y = make_dataset()\n",
    "pl1 = make_pipeline(stepwise_feature_selection(X, y, 3, [1, 3, 5]))\n",
    "\n",
    "X, y = make_dataset()\n",
    "pl2 = make_pipeline(lasso(X, y, 0.08, [0.04, 0.08, 0.12]))\n",
    "\n",
    "X, y = make_dataset()\n",
    "pl3 = make_pipeline(marginal_screening(X, y, 3, [1, 3, 5]))\n",
    "\n",
    "n, p = 200, 10\n",
    "beta = np.zeros(p)\n",
    "beta[:3] = 0.3\n",
    "X = rng.normal(size=(n, p))\n",
    "y = X @ beta + rng.normal(size=n)\n",
    "\n",
    "pl1.tune(X, y, n_iter=3, random_state=0)\n",
    "print(pl1.best_candidate, pl1.best_mse)\n",
    "print(pl1.components[pl1.static_order[1]].parameters)\n",
    "print()\n",
    "\n",
    "multi_pls = make_pipelines(pl1, pl2, pl3)\n",
    "multi_pls.tune(X, y, n_iters=3, random_state=0)\n",
    "print(multi_pls.best_index)\n",
    "print()\n",
    "\n",
    "for pl in multi_pls.pipelines:\n",
    "    print(pl.best_candidate, pl.best_mse)\n",
    "    print(pl.components[pl.static_order[1]].parameters)\n",
    "    print()\n",
    "\n",
    "print(multi_pls)\n"
   ]
  },
  {
   "cell_type": "code",
   "execution_count": 8,
   "metadata": {},
   "outputs": [
    {
     "name": "stdout",
     "output_type": "stream",
     "text": [
      "[([2, 4, 8], [17, 35, 37, 39, 65, 72, 75]), ([2, 3, 4], [3, 10, 39, 62, 65, 79, 82])]\n",
      "1\n",
      "{} 1.2488417583080875\n",
      "{} 1.1431496898203148\n",
      "[2, 3, 4]\n",
      "(4, 0.46953766683136156)\n"
     ]
    }
   ],
   "source": [
    "from source.feature_selection import stepwise_feature_selection, lasso, marginal_screening\n",
    "from source.pipeline import make_dataset, make_pipeline, make_pipelines\n",
    "from source.model import option1, option2\n",
    "import numpy as np\n",
    "\n",
    "X, y = make_dataset()\n",
    "mpls = make_pipelines(option1(), option2())\n",
    "\n",
    "\n",
    "rng = np.random.default_rng()\n",
    "n, p = 100, 10\n",
    "beta = np.zeros(p)\n",
    "beta[:3] = 0.0\n",
    "X = rng.normal(size=(n, p))\n",
    "y = X @ beta + rng.normal(size=n)\n",
    "print(mpls(X, y))\n",
    "\n",
    "mpls.tune(X, y, n_iters=1, cv=5, random_state=None)\n",
    "print(mpls.best_index)\n",
    "for pipeline in mpls.pipelines:\n",
    "    print(pipeline.best_candidate, pipeline.best_mse)\n",
    "M, O = mpls(X, y)\n",
    "print(M)\n",
    "\n",
    "print(mpls.inference(X, y, 1.0, test_index=rng.choice(len(M)), is_result=False))"
   ]
  },
  {
   "cell_type": "code",
   "execution_count": 9,
   "metadata": {},
   "outputs": [
    {
     "name": "stdout",
     "output_type": "stream",
     "text": [
      "[([6, 7, 0, 2], []), ([6, 7, 0, 2], [])]\n",
      "0\n",
      "{'stepwise_feature_selection_7': 2} 1.1826662159114336\n",
      "{'marginal_screening_7': 2} 1.261441903356111\n",
      "[6, 7]\n",
      "(6, SelectiveInferenceResult(stat=1.3565843229362116, alpha=0.05, p_value=0.4191301192458007, inf_p=0.4191301192458007, sup_p=0.41987983116172023, reject_or_not=False, truncated_intervals=[[-3.518271926657677, -2.640291815352206], [-2.409179993122213, -0.8561904157662692], [0.8341090546677395, 1.8502078270347493], [2.0030245770539876, 3.4509854192446543]], search_count=73, detect_count=55, selected_model=None, mappings=None))\n"
     ]
    }
   ],
   "source": [
    "from source.feature_selection import stepwise_feature_selection, lasso, marginal_screening\n",
    "from source.pipeline import make_dataset, make_pipeline, make_pipelines\n",
    "from source.model import option1, option2\n",
    "import numpy as np\n",
    "\n",
    "X, y = make_dataset()\n",
    "pl1 = make_pipeline(output=stepwise_feature_selection(X, y, 4, [2, 3, 4]))\n",
    "pl2 = make_pipeline(output=marginal_screening(X, y, 4, [2,3,4]))\n",
    "mpls = make_pipelines(pl1, pl2)\n",
    "\n",
    "\n",
    "rng = np.random.default_rng()\n",
    "n, p = 100, 10\n",
    "beta = np.zeros(p)\n",
    "beta[:3] = 0.0\n",
    "X = rng.normal(size=(n, p))\n",
    "y = X @ beta + rng.normal(size=n)\n",
    "print(mpls(X, y))\n",
    "\n",
    "mpls.tune(X, y, n_iters=3, cv=5, random_state=None)\n",
    "print(mpls.best_index)\n",
    "for pipeline in mpls.pipelines:\n",
    "    print(pipeline.best_candidate, pipeline.best_mse)\n",
    "M, O = mpls(X, y)\n",
    "print(M)\n",
    "\n",
    "print(mpls.inference(X, y, 1.0, test_index=rng.choice(len(M)), is_result=False))"
   ]
  },
  {
   "cell_type": "code",
   "execution_count": 4,
   "metadata": {},
   "outputs": [
    {
     "name": "stderr",
     "output_type": "stream",
     "text": [
      "100%|██████████| 1000/1000 [07:42<00:00,  2.16it/s]"
     ]
    },
    {
     "name": "stdout",
     "output_type": "stream",
     "text": [
      "1000\n"
     ]
    },
    {
     "name": "stderr",
     "output_type": "stream",
     "text": [
      "\n"
     ]
    },
    {
     "data": {
      "image/png": "[encoded data removed]",
      "text/plain": [
       "<Figure size 400x400 with 1 Axes>"
      ]
     },
     "metadata": {},
     "output_type": "display_data"
    }
   ],
   "source": [
    "from source.feature_selection import stepwise_feature_selection, lasso, marginal_screening\n",
    "from source.pipeline import make_dataset, make_pipeline, make_pipelines\n",
    "from source.model import option1, option2\n",
    "import numpy as np\n",
    "from tqdm import tqdm\n",
    "from sicore import pvalues_qqplot\n",
    "\n",
    "X, y = make_dataset()\n",
    "pl1 = make_pipeline(output=stepwise_feature_selection(X, y, 4, [2, 3, 4,5]))\n",
    "pl2 = make_pipeline(output=marginal_screening(X, y, 4, [2,3,4,5]))\n",
    "mpls = make_pipelines(pl1, pl2)\n",
    "\n",
    "\n",
    "rng = np.random.default_rng()\n",
    "n, p = 100, 10\n",
    "beta = np.zeros(p)\n",
    "beta[:3] = 0.0\n",
    "\n",
    "p_list = []\n",
    "for _ in tqdm(range(1000)):\n",
    "    X = rng.normal(size=(n, p))\n",
    "    y = X @ beta + rng.normal(size=n)\n",
    "    mpls.tune(X, y, n_iters=4, cv=5, random_state=None)\n",
    "    M, O = mpls(X, y)\n",
    "    try:\n",
    "        _, p_value = mpls.inference(X, y, 1.0, test_index=rng.choice(len(M)), is_result=False)\n",
    "        p_list.append(p_value)\n",
    "    except:\n",
    "        pass\n",
    "\n",
    "print(len(p_list))\n",
    "pvalues_qqplot(p_list)\n"
   ]
  },
  {
   "cell_type": "code",
   "execution_count": 6,
   "metadata": {},
   "outputs": [
    {
     "name": "stdout",
     "output_type": "stream",
     "text": [
      "KstestResult(statistic=0.028528143466924227, pvalue=0.3826352587346791, statistic_location=0.7244718565330758, statistic_sign=1)\n",
      "0.043\n"
     ]
    }
   ],
   "source": [
    "from scipy.stats import kstest\n",
    "\n",
    "print(kstest(p_list, 'uniform'))\n",
    "print(np.mean(np.array(p_list) < 0.05))"
   ]
  },
  {
   "cell_type": "code",
   "execution_count": 3,
   "metadata": {},
   "outputs": [
    {
     "name": "stdout",
     "output_type": "stream",
     "text": [
      "896\n"
     ]
    }
   ],
   "source": [
    "print(len(p_list))"
   ]
  },
  {
   "cell_type": "code",
   "execution_count": 4,
   "metadata": {},
   "outputs": [
    {
     "name": "stderr",
     "output_type": "stream",
     "text": [
      "  7%|▋         | 1999/30000 [09:01<2:06:20,  3.69it/s]"
     ]
    },
    {
     "name": "stdout",
     "output_type": "stream",
     "text": [
      "0.048\n"
     ]
    },
    {
     "name": "stderr",
     "output_type": "stream",
     "text": [
      "\n"
     ]
    }
   ],
   "source": [
    "from source.model import option1, option2\n",
    "import source.pipelineprocesser as plp\n",
    "from tqdm import tqdm\n",
    "import numpy as np\n",
    "\n",
    "X, y = plp.make_dataset()\n",
    "pl = plp.make_pipeline(output=plp.stepwise_feature_selection(X, y, 4, [2, 3, 4, 5, 6]))\n",
    "\n",
    "rng = np.random.default_rng(0)\n",
    "n, p = 100, 10\n",
    "\n",
    "beta = np.zeros(p)\n",
    "beta[:5] = 0.0\n",
    "\n",
    "results = []\n",
    "for _ in tqdm(range(30000)):\n",
    "    X = rng.normal(size=(n, p))\n",
    "    y = X @ beta + rng.normal(size=n)\n",
    "\n",
    "    pl.tune(X, y, n_iter=5, cv=3)\n",
    "    M, _ = pl(X, y)\n",
    "    if len(M) == 0:\n",
    "        continue\n",
    "    test_index = rng.choice(len(M))\n",
    "    # if M[test_index] not in {0, 1, 2, 3, 4}:\n",
    "    #     continue\n",
    "    _, result = pl.inference(X, y, 1.0, test_index, step=1e-8)\n",
    "    results.append(result)\n",
    "    if len(results) == 2000:\n",
    "        break\n",
    "\n",
    "p_list = np.array([result.p_value for result in results])\n",
    "print(np.mean(p_list < 0.05))\n"
   ]
  },
  {
   "cell_type": "code",
   "execution_count": 1,
   "metadata": {},
   "outputs": [
    {
     "name": "stderr",
     "output_type": "stream",
     "text": [
      "  0%|          | 20/30000 [00:06<1:10:19,  7.10it/s]"
     ]
    }
   ],
   "source": [
    "from source.model import option1, option2\n",
    "import source.pipelineprocesser as plp\n",
    "from tqdm import tqdm\n",
    "import numpy as np\n",
    "from sicore import pvalues_qqplot\n",
    "\n",
    "X, y = plp.make_dataset()\n",
    "pl = plp.make_pipeline(output=plp.lasso(X, y, 0.08, [0.08, 0.12]))\n",
    "\n",
    "rng = np.random.default_rng(0)\n",
    "n, p = 150, 10\n",
    "\n",
    "beta = np.zeros(p)\n",
    "beta[:5] = 0.0\n",
    "\n",
    "results = []\n",
    "error_count = 0\n",
    "for _ in tqdm(range(30000)):\n",
    "    X = rng.normal(size=(n, p))\n",
    "    y = X @ beta + rng.normal(size=n)\n",
    "\n",
    "    pl.tune(X, y, n_iter=2, cv=3, random_state=0)\n",
    "    M, _ = pl(X, y)\n",
    "    if len(M) == 0:\n",
    "        continue\n",
    "    test_index = rng.choice(len(M))\n",
    "    # if M[test_index] not in {0, 1, 2, 3, 4}:\n",
    "    #     continue\n",
    "    try:\n",
    "        _, result = pl.inference(X, y, 1.0, test_index, step=1e-6, is_result=True)\n",
    "        results.append(result)\n",
    "    except:\n",
    "        error_count += 1\n",
    "    if len(results) == 500:\n",
    "        break\n",
    "\n",
    "print(error_count)\n",
    "p_list = np.array([result.p_value for result in results])\n",
    "print(np.mean(p_list < 0.05))\n",
    "pvalues_qqplot(p_list)\n"
   ]
  },
  {
   "cell_type": "code",
   "execution_count": 4,
   "metadata": {},
   "outputs": [
    {
     "name": "stdout",
     "output_type": "stream",
     "text": [
      "[[-inf, inf]]\n"
     ]
    }
   ],
   "source": [
    "from sicore import poly_lt_zero\n",
    "\n",
    "for _ in range(1000):\n",
    "    temp = poly_lt_zero([0, 0, 0], 1e-8)\n",
    "print(temp)"
   ]
  },
  {
   "cell_type": "code",
   "execution_count": 4,
   "metadata": {},
   "outputs": [
    {
     "name": "stdout",
     "output_type": "stream",
     "text": [
      "3\n"
     ]
    }
   ],
   "source": [
    "temp = 0\n",
    "flag = False\n",
    "for i in range(10):\n",
    "    if i == 3:\n",
    "        flag = True\n",
    "\n",
    "    if flag:\n",
    "        continue\n",
    "    temp += 1\n",
    "print(temp)"
   ]
  },
  {
   "cell_type": "code",
   "execution_count": 2,
   "metadata": {},
   "outputs": [
    {
     "name": "stdout",
     "output_type": "stream",
     "text": [
      "2000\n",
      "KstestResult(statistic=0.014692496174715575, pvalue=0.7751781296729825, statistic_location=0.6946924961747156, statistic_sign=-1)\n"
     ]
    },
    {
     "data": {
      "image/png": "[encoded data removed]",
      "text/plain": [
       "<Figure size 400x400 with 1 Axes>"
      ]
     },
     "metadata": {},
     "output_type": "display_data"
    },
    {
     "data": {
      "image/png": "[encoded data removed]",
      "text/plain": [
       "<Figure size 600x400 with 1 Axes>"
      ]
     },
     "metadata": {},
     "output_type": "display_data"
    }
   ],
   "source": [
    "from sicore import pvalues_qqplot, pvalues_hist\n",
    "from scipy.stats import kstest\n",
    "\n",
    "print(len(p_list))\n",
    "print(kstest(p_list, 'uniform'))\n",
    "pvalues_qqplot(p_list)\n",
    "pvalues_hist(p_list)\n"
   ]
  },
  {
   "cell_type": "code",
   "execution_count": null,
   "metadata": {},
   "outputs": [],
   "source": [
    "import numpy as np\n"
   ]
  },
  {
   "cell_type": "code",
   "execution_count": 12,
   "metadata": {},
   "outputs": [
    {
     "name": "stdout",
     "output_type": "stream",
     "text": [
      "{1: {2: {}}}\n",
      "{}\n",
      "{1: {2: {}}}\n",
      "{}\n",
      "3\n"
     ]
    }
   ],
   "source": [
    "intervals = dict()\n",
    "intervals.setdefault(1, dict())\n",
    "intervals[1].setdefault(2, dict())\n",
    "print(intervals)\n",
    "print(intervals[1][2])\n",
    "\n",
    "intervals.setdefault(1, dict())\n",
    "intervals[1].setdefault(2, dict())\n",
    "print(intervals)\n",
    "print(intervals[1][2])\n",
    "\n",
    "intervals[None] = 3\n",
    "\n",
    "for key, value in intervals[1][2].items():\n",
    "    print(key, value)\n",
    "\n",
    "print(intervals[None])\n"
   ]
  }
 ],
 "metadata": {
  "kernelspec": {
   "display_name": "Python 3",
   "language": "python",
   "name": "python3"
  },
  "language_info": {
   "codemirror_mode": {
    "name": "ipython",
    "version": 3
   },
   "file_extension": ".py",
   "mimetype": "text/x-python",
   "name": "python",
   "nbconvert_exporter": "python",
   "pygments_lexer": "ipython3",
   "version": "3.10.13"
  }
 },
 "nbformat": 4,
 "nbformat_minor": 2
}

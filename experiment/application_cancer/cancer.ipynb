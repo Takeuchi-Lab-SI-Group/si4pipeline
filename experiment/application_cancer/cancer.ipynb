{
 "cells": [
  {
   "cell_type": "code",
   "execution_count": 7,
   "metadata": {},
   "outputs": [
    {
     "name": "stdout",
     "output_type": "stream",
     "text": [
      "(97, 11)\n",
      "Index(['lcavol', 'lweight', 'age', 'lbph', 'svi', 'lcp', 'gleason', 'pgg45'], dtype='object')\n",
      "(97,) (97, 8)\n",
      "(97, 8)\n",
      "[0, 1, 4, 7] [38]\n",
      "Index(['lcavol', 'lweight', 'svi', 'pgg45'], dtype='object')\n",
      "\n",
      "[0.000150491577944889, 0.01847881174944177, 0.06980997352081564, 0.7369299275116837]\n",
      "[0.000150491577944889, 0.20100807283242783, 0.05814979771097273, 0.7304913247221283]\n",
      "[2.21358103140832e-11, 5.268747028860415e-05, 0.0013070871456503875, 0.3897670711150762]\n"
     ]
    }
   ],
   "source": [
    "import pandas as pd\n",
    "import numpy as np\n",
    "import si4automl\n",
    "\n",
    "df = pd.read_csv(\"cancer.tsv\", sep=\"\\t\")\n",
    "print(df.shape)\n",
    "y = df[\"lpsa\"]\n",
    "X = df.drop([\"lpsa\", \"Unnamed: 0\", \"train\"], axis=1)\n",
    "print(labels := X.columns)\n",
    "X = X.values\n",
    "\n",
    "print(y.shape, X.shape)\n",
    "X = (X - np.mean(X, axis=0)) / np.std(X, axis=0)\n",
    "print(X.shape)\n",
    "\n",
    "y = (y - np.mean(y)) / np.std(y)\n",
    "\n",
    "\n",
    "def option():\n",
    "    X, y = si4automl.initialize_dataset()\n",
    "    y = si4automl.mean_value_imputation(X, y)\n",
    "\n",
    "    O = si4automl.soft_ipod(X, y, 0.015)\n",
    "    X, y = si4automl.remove_outliers(X, y, O)\n",
    "\n",
    "    M = si4automl.marginal_screening(X, y, 5)\n",
    "    X = si4automl.extract_features(X, M)\n",
    "\n",
    "    M1 = si4automl.stepwise_feature_selection(X, y, 3)\n",
    "    M2 = si4automl.lasso(X, y, 0.08)\n",
    "    M = si4automl.union(M1, M2)\n",
    "    return si4automl.construct_pipelines(output=M)\n",
    "\n",
    "manager = option()\n",
    "M, O = manager(X, y)\n",
    "print(M, O)\n",
    "print(labels[M])\n",
    "print()\n",
    "\n",
    "M, results = manager.inference(X, y, retain_result=True)\n",
    "\n",
    "print([r.p_value for r in results])\n",
    "print(manager.inference(X, y, inference_mode=\"over_conditioning\")[1])\n",
    "print([r.naive_p_value() for r in results])"
   ]
  }
 ],
 "metadata": {
  "kernelspec": {
   "display_name": "Python 3",
   "language": "python",
   "name": "python3"
  },
  "language_info": {
   "codemirror_mode": {
    "name": "ipython",
    "version": 3
   },
   "file_extension": ".py",
   "mimetype": "text/x-python",
   "name": "python",
   "nbconvert_exporter": "python",
   "pygments_lexer": "ipython3",
   "version": "3.12.5"
  }
 },
 "nbformat": 4,
 "nbformat_minor": 2
}

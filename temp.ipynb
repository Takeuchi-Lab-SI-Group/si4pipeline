{
 "cells": [
  {
   "cell_type": "code",
   "execution_count": 3,
   "metadata": {},
   "outputs": [
    {
     "name": "stdout",
     "output_type": "stream",
     "text": [
      "start -> definite_regression_imputation_0\n",
      "definite_regression_imputation_0 -> marginal_screening_1\n",
      "marginal_screening_1 -> extract_1\n",
      "extract_1 -> dffits_0\n",
      "dffits_0 -> remove_1\n",
      "remove_1 -> stepwise_feature_selection_1\n",
      "remove_1 -> lasso_1\n",
      "stepwise_feature_selection_1 -> intersection_0\n",
      "lasso_1 -> intersection_0\n",
      "intersection_0 -> end\n"
     ]
    }
   ],
   "source": [
    "import source.pipelineprocesser as plp\n",
    "from source.model import option1, option2\n",
    "\n",
    "\n",
    "print(option2())"
   ]
  },
  {
   "cell_type": "code",
   "execution_count": 3,
   "metadata": {},
   "outputs": [
    {
     "name": "stdout",
     "output_type": "stream",
     "text": [
      "([16, 5, 7, 9, 12], [0.23106412464563586, 0.5822191629376969, 0.5673553929352066, 0.20552831382490833, 0.09263179644744723])\n"
     ]
    }
   ],
   "source": [
    "from source.pipelineprocesser import (\n",
    "make_dataset, mean_value_imputation, cook_distance, remove_outliers, marginal_screening, extract_features, stepwise_feature_selection, lasso, union, make_pipeline,\n",
    "definite_regression_imputation, dffits, intersection, make_pipelines\n",
    ")\n",
    "import numpy as np\n",
    "\n",
    "def option1():\n",
    "    X, y = make_dataset()\n",
    "    y = mean_value_imputation(X, y)\n",
    "\n",
    "    O = cook_distance(X, y, 3.0, {1.0, 2.0, 3.0})\n",
    "    X, y = remove_outliers(X, y, O)\n",
    "\n",
    "    M = marginal_screening(X, y, 5, {5, 7, 9})\n",
    "    X = extract_features(X, M)\n",
    "\n",
    "    M1 = stepwise_feature_selection(X, y, 3, {2, 3, 4})\n",
    "    M2 = lasso(X, y, 0.08, {0.04, 0.08, 0.12})\n",
    "    M = union(M1, M2)\n",
    "    return make_pipeline(output=M)\n",
    "\n",
    "def option2():\n",
    "    X, y = make_dataset()\n",
    "    y = definite_regression_imputation(X, y)\n",
    "\n",
    "    M = marginal_screening(X, y, 5, {3, 5})\n",
    "    X = extract_features(X, M)\n",
    "\n",
    "    O = dffits(X, y, 3.0, {2.0, 3.0})\n",
    "    X, y = remove_outliers(X, y, O)\n",
    "\n",
    "    M1 = stepwise_feature_selection(X, y, 3, {2, 3})\n",
    "    M2 = lasso(X, y, 0.08, {0.08, 0.12})\n",
    "    M = intersection(M1, M2)\n",
    "    return make_pipeline(output=M)\n",
    "\n",
    "rng = np.random.default_rng()\n",
    "n, p = 200, 20\n",
    "pl = option1()\n",
    "X = rng.normal(size=(n, p))\n",
    "y = rng.normal(size=n)\n",
    "\n",
    "pl.tune(X, y, n_iter=81, cv=5)\n",
    "print(pl.inference(X, y, 1.0))\n"
   ]
  },
  {
   "cell_type": "code",
   "execution_count": 18,
   "metadata": {},
   "outputs": [
    {
     "name": "stdout",
     "output_type": "stream",
     "text": [
      "(1, 0.7024480152386989)\n"
     ]
    }
   ],
   "source": [
    "mpl = make_pipelines(option1(), option2())\n",
    "mpl.tune(X, y, n_iters=16, cv=5)\n",
    "print(mpl.inference(X, y, 1.0, test_index=0))\n"
   ]
  },
  {
   "cell_type": "code",
   "execution_count": 21,
   "metadata": {},
   "outputs": [
    {
     "name": "stdout",
     "output_type": "stream",
     "text": [
      "1\n",
      "{'marginal_screening_18': 5, 'dffits_2': 2.0, 'stepwise_feature_selection_18': 2, 'lasso_18': 0.08}\n"
     ]
    }
   ],
   "source": [
    "print(mpl.best_index)\n",
    "print(mpl.pipelines[mpl.best_index].best_candidate)"
   ]
  },
  {
   "cell_type": "code",
   "execution_count": 13,
   "metadata": {},
   "outputs": [
    {
     "name": "stdout",
     "output_type": "stream",
     "text": [
      "SelectiveInferenceResult(stat=-1.8942838621897045, alpha=0.05, p_value=0.09642759507142629, inf_p=0.09642759507142629, sup_p=0.09739472078796485, reject_or_not=False, truncated_intervals=[[-1.9002783611380913, -1.8411677908652635]], search_count=369, detect_count=3, selected_model=None, mappings=None)\n",
      "100\n",
      "\n"
     ]
    }
   ],
   "source": [
    "import pickle\n",
    "\n",
    "with open('results_cv_op1and2/200_20_0.0_0.pkl', 'rb') as f:\n",
    "    results = pickle.load(f)\n",
    "\n",
    "print(results[7])\n",
    "\n",
    "print(len(results))\n",
    "\n",
    "print()"
   ]
  },
  {
   "cell_type": "code",
   "execution_count": 14,
   "metadata": {},
   "outputs": [
    {
     "data": {
      "image/png": "[encoded data removed]",
      "text/plain": [
       "<Figure size 600x500 with 2 Axes>"
      ]
     },
     "metadata": {},
     "output_type": "display_data"
    }
   ],
   "source": [
    "import numpy as np\n",
    "import matplotlib.pyplot as plt\n",
    "\n",
    "rng = np.random.default_rng()\n",
    "values = []\n",
    "for _ in range(100000):\n",
    "    v = np.mean(rng.uniform(size=int(num := 1e3)) < 0.05)\n",
    "    values.append(v * 100)\n",
    "\n",
    "# plt.boxplot(values)\n",
    "# plt.show()\n",
    "\n",
    "# plt.hist(values, bins=100)\n",
    "# plt.show()\n",
    "\n",
    "fig, ax = plt.subplots(2, figsize=(6, 5))\n",
    "plt.title(f'Distribution of Type I Error Rate (num={int(num)})', y=2.2)\n",
    "\n",
    "ax[0].hist(values, bins=30)\n",
    "ax[1].boxplot(values, vert=False, whis=(2.5, 97.5), flierprops=dict(ms=0.7))\n",
    "\n",
    "ax[0].set_yticks([])\n",
    "ax[1].set_yticks([])\n",
    "ax[0].set_xlim(2, 8)\n",
    "ax[1].set_xlim(2, 8)\n",
    "ax[0].set_xticks(np.arange(2, 8.5, 0.5))\n",
    "ax[1].set_xticks(np.arange(2, 8.5, 0.5))\n",
    "\n",
    "\n",
    "plt.savefig(f'num1e{int(np.log10(num))}.pdf', transparent=True, bbox_inches='tight', pad_inches=0)\n",
    "plt.show()"
   ]
  },
  {
   "cell_type": "code",
   "execution_count": 47,
   "metadata": {},
   "outputs": [
    {
     "data": {
      "image/png": "[encoded data removed]",
      "text/plain": [
       "<Figure size 600x500 with 2 Axes>"
      ]
     },
     "metadata": {},
     "output_type": "display_data"
    }
   ],
   "source": [
    "import numpy as np\n",
    "import matplotlib.pyplot as plt\n",
    "\n",
    "rng = np.random.default_rng()\n",
    "values = rng.binomial(int(num := 1e3), 0.05, size=1000000) * 100 / num\n",
    "\n",
    "# plt.boxplot(values)\n",
    "# plt.show()\n",
    "\n",
    "# plt.hist(values, bins=100)\n",
    "# plt.show()\n",
    "\n",
    "fig, ax = plt.subplots(2, figsize=(6, 5))\n",
    "plt.title(f'Distribution of Type I Error Rate (num={int(num)})', y=2.2)\n",
    "\n",
    "ax[0].hist(values, bins=40)\n",
    "ax[1].boxplot(values, vert=False, whis=(2.5, 97.5), flierprops=dict(ms=0.7))\n",
    "\n",
    "ax[0].set_yticks([])\n",
    "ax[1].set_yticks([])\n",
    "ax[0].set_xlim(2, 8)\n",
    "ax[1].set_xlim(2, 8)\n",
    "ax[0].set_xticks(np.arange(2, 8.5, 0.5))\n",
    "ax[1].set_xticks(np.arange(2, 8.5, 0.5))\n",
    "\n",
    "\n",
    "plt.savefig(f'num1e{int(np.log10(num))}.pdf', transparent=True, bbox_inches='tight', pad_inches=0)\n",
    "plt.show()"
   ]
  }
 ],
 "metadata": {
  "kernelspec": {
   "display_name": "Python 3",
   "language": "python",
   "name": "python3"
  },
  "language_info": {
   "codemirror_mode": {
    "name": "ipython",
    "version": 3
   },
   "file_extension": ".py",
   "mimetype": "text/x-python",
   "name": "python",
   "nbconvert_exporter": "python",
   "pygments_lexer": "ipython3",
   "version": "3.10.11"
  }
 },
 "nbformat": 4,
 "nbformat_minor": 2
}

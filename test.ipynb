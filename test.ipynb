{
 "cells": [
  {
   "cell_type": "code",
   "execution_count": 86,
   "metadata": {},
   "outputs": [
    {
     "name": "stdout",
     "output_type": "stream",
     "text": [
      "True\n",
      "True\n",
      "True\n",
      "True\n",
      "True\n"
     ]
    }
   ],
   "source": [
    "from source.missing_imputation import DefiniteRegressionImputation, definite_regression_imputation\n",
    "import numpy as np\n",
    "from temp.missing_imputation import regression_definite_imputation as rdi\n",
    "from source.base_component import extract_features, remove_outliers, intersection, union\n",
    "from source.outlier_detection import cook_distance\n",
    "from source.feature_selection import stepwise_feature_selection, lasso, marginal_screening\n",
    "from source.pipeline import make_pipeline, make_dataset\n",
    "\n",
    "from temp.feature_selection_si import sfs_si, lasso_si, ms_si\n",
    "from temp.outlier_removal_si import cook_si\n",
    "\n",
    "n, p = 100, 10\n",
    "rng = np.random.default_rng()\n",
    "\n",
    "dataset = []\n",
    "X = rng.normal(size=(n, p))\n",
    "y = rng.normal(size=(n,))\n",
    "# y[:5] += 4\n",
    "missing = rng.choice(list(range(n)), size=n // 10, replace=False)\n",
    "y[missing] = np.nan\n",
    "\n",
    "y_imp1 = DefiniteRegressionImputation().impute_missing(X, y)\n",
    "y_imp2, cov1 = DefiniteRegressionImputation().compute_covariance(X, y, 1.0)\n",
    "X, y_imp3, cov2 = rdi(X, y, 1.0)\n",
    "\n",
    "print(np.allclose(y_imp1, y_imp2))\n",
    "print(np.allclose(y_imp1, y_imp3))\n",
    "print(np.allclose(cov1, cov2))\n",
    "\n",
    "\n",
    "def option():\n",
    "    X, y = make_dataset()\n",
    "    y = definite_regression_imputation(X, y)\n",
    "\n",
    "    O = cook_distance(X, y, 3.0)\n",
    "    X, y = remove_outliers(X, y, O)\n",
    "\n",
    "    M = marginal_screening(X, y, 5)\n",
    "    X = extract_features(X, M)\n",
    "\n",
    "    M1 = stepwise_feature_selection(X, y, 3)\n",
    "    M2 = lasso(X, y, 0.08)\n",
    "    M = intersection(M1, M2)\n",
    "    return make_pipeline(output=M)\n",
    "\n",
    "pipeline = option()\n",
    "result = pipeline.inference(X, y, 1.0, test_index=0)[1]\n",
    "\n",
    "print(np.allclose(y_imp1, pipeline.y))\n",
    "print(np.allclose(cov1, pipeline.cov))\n"
   ]
  },
  {
   "cell_type": "code",
   "execution_count": 87,
   "metadata": {},
   "outputs": [
    {
     "name": "stdout",
     "output_type": "stream",
     "text": [
      "-1.6303415151511693 -1.5126046275023979\n",
      "-1.6303415151511693 -1.5126046275023979\n"
     ]
    }
   ],
   "source": [
    "from source.missing_imputation import definite_regression_imputation\n",
    "import numpy as np\n",
    "from source.base_component import extract_features, remove_outliers, intersection, union\n",
    "from source.outlier_detection import cook_distance\n",
    "from source.feature_selection import stepwise_feature_selection, lasso, marginal_screening\n",
    "from source.pipeline import make_pipeline, make_dataset\n",
    "\n",
    "from temp.feature_selection_si import sfs_si, lasso_si, ms_si\n",
    "from temp.outlier_removal_si import cook_si\n",
    "\n",
    "n, p = 100, 10\n",
    "rng = np.random.default_rng()\n",
    "\n",
    "X = rng.normal(size=(n, p))\n",
    "\n",
    "def option():\n",
    "    X, y = make_dataset()\n",
    "    y = definite_regression_imputation(X, y)\n",
    "\n",
    "    O = cook_distance(X, y, 3.0)\n",
    "    X, y = remove_outliers(X, y, O)\n",
    "\n",
    "    M = marginal_screening(X, y, 5)\n",
    "    X = extract_features(X, M)\n",
    "\n",
    "    M1 = stepwise_feature_selection(X, y, 3)\n",
    "    M2 = lasso(X, y, 0.08)\n",
    "    M = intersection(M1, M2)\n",
    "    return make_pipeline(output=M)\n",
    "\n",
    "pipeline = option()\n",
    "\n",
    "a = rng.normal(size=n)\n",
    "b = rng.normal(size=n)\n",
    "z = rng.uniform(-2, 2)\n",
    "pipeline.X = X\n",
    "pipeline.reset_intervals()\n",
    "MO, lu = pipeline.algorithm(a, b, z)\n",
    "print(*lu)\n",
    "\n",
    "l, u = -np.inf, np.inf\n",
    "M, O = list(range(p)), []\n",
    "M, O, l, u = cook_si(a, b, z, X, M, O, l, u, 3.0)\n",
    "M, O, l, u = ms_si(a, b, z, X, M, O, l, u, 5)\n",
    "M1, O, l, u = sfs_si(a, b, z, X, M, O, l, u, 3)\n",
    "M2, O, l, u = lasso_si(a, b, z, X, M, O, l, u, 0.08)\n",
    "print(l, u)"
   ]
  }
 ],
 "metadata": {
  "kernelspec": {
   "display_name": "Python 3",
   "language": "python",
   "name": "python3"
  },
  "language_info": {
   "codemirror_mode": {
    "name": "ipython",
    "version": 3
   },
   "file_extension": ".py",
   "mimetype": "text/x-python",
   "name": "python",
   "nbconvert_exporter": "python",
   "pygments_lexer": "ipython3",
   "version": "3.10.11"
  }
 },
 "nbformat": 4,
 "nbformat_minor": 2
}
